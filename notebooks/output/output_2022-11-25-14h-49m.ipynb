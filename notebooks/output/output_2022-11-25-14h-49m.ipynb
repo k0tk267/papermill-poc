{
 "cells": [
  {
   "cell_type": "code",
   "execution_count": 1,
   "id": "ea6d3dc0",
   "metadata": {
    "execution": {
     "iopub.execute_input": "2022-11-25T05:49:37.162642Z",
     "iopub.status.busy": "2022-11-25T05:49:37.162319Z",
     "iopub.status.idle": "2022-11-25T05:49:37.169578Z",
     "shell.execute_reply": "2022-11-25T05:49:37.168723Z"
    },
    "papermill": {
     "duration": 0.011982,
     "end_time": "2022-11-25T05:49:37.170921",
     "exception": false,
     "start_time": "2022-11-25T05:49:37.158939",
     "status": "completed"
    },
    "tags": [
     "parameters"
    ]
   },
   "outputs": [],
   "source": [
    "alpha = 0.1\n",
    "delta = 0.2"
   ]
  },
  {
   "cell_type": "code",
   "execution_count": 2,
   "id": "92545ac4",
   "metadata": {
    "execution": {
     "iopub.execute_input": "2022-11-25T05:49:37.174252Z",
     "iopub.status.busy": "2022-11-25T05:49:37.173935Z",
     "iopub.status.idle": "2022-11-25T05:49:37.177169Z",
     "shell.execute_reply": "2022-11-25T05:49:37.176409Z"
    },
    "papermill": {
     "duration": 0.006044,
     "end_time": "2022-11-25T05:49:37.178376",
     "exception": false,
     "start_time": "2022-11-25T05:49:37.172332",
     "status": "completed"
    },
    "tags": [
     "injected-parameters"
    ]
   },
   "outputs": [],
   "source": [
    "# Parameters\n",
    "alpha = 5\n",
    "ratio = 7\n"
   ]
  },
  {
   "cell_type": "code",
   "execution_count": 3,
   "id": "3590e3b4",
   "metadata": {
    "execution": {
     "iopub.execute_input": "2022-11-25T05:49:37.181945Z",
     "iopub.status.busy": "2022-11-25T05:49:37.181719Z",
     "iopub.status.idle": "2022-11-25T05:49:37.185061Z",
     "shell.execute_reply": "2022-11-25T05:49:37.184418Z"
    },
    "papermill": {
     "duration": 0.006883,
     "end_time": "2022-11-25T05:49:37.186344",
     "exception": false,
     "start_time": "2022-11-25T05:49:37.179461",
     "status": "completed"
    },
    "tags": []
   },
   "outputs": [],
   "source": [
    "import time"
   ]
  },
  {
   "cell_type": "code",
   "execution_count": 4,
   "id": "ea38e3c4",
   "metadata": {
    "execution": {
     "iopub.execute_input": "2022-11-25T05:49:37.189414Z",
     "iopub.status.busy": "2022-11-25T05:49:37.189232Z",
     "iopub.status.idle": "2022-11-25T05:49:47.202260Z",
     "shell.execute_reply": "2022-11-25T05:49:47.201344Z"
    },
    "papermill": {
     "duration": 10.016564,
     "end_time": "2022-11-25T05:49:47.204049",
     "exception": false,
     "start_time": "2022-11-25T05:49:37.187485",
     "status": "completed"
    },
    "tags": []
   },
   "outputs": [],
   "source": [
    "time.sleep(10)"
   ]
  },
  {
   "cell_type": "code",
   "execution_count": 5,
   "id": "71a41907",
   "metadata": {
    "execution": {
     "iopub.execute_input": "2022-11-25T05:49:47.208383Z",
     "iopub.status.busy": "2022-11-25T05:49:47.207886Z",
     "iopub.status.idle": "2022-11-25T05:49:47.211702Z",
     "shell.execute_reply": "2022-11-25T05:49:47.211030Z"
    },
    "papermill": {
     "duration": 0.007403,
     "end_time": "2022-11-25T05:49:47.212894",
     "exception": false,
     "start_time": "2022-11-25T05:49:47.205491",
     "status": "completed"
    },
    "tags": []
   },
   "outputs": [
    {
     "name": "stdout",
     "output_type": "stream",
     "text": [
      "alpha: 5\n"
     ]
    }
   ],
   "source": [
    "print(f\"alpha: {alpha}\")"
   ]
  },
  {
   "cell_type": "code",
   "execution_count": 6,
   "id": "6b6e2312",
   "metadata": {
    "execution": {
     "iopub.execute_input": "2022-11-25T05:49:47.216916Z",
     "iopub.status.busy": "2022-11-25T05:49:47.216496Z",
     "iopub.status.idle": "2022-11-25T05:49:47.220145Z",
     "shell.execute_reply": "2022-11-25T05:49:47.219571Z"
    },
    "papermill": {
     "duration": 0.006753,
     "end_time": "2022-11-25T05:49:47.221177",
     "exception": false,
     "start_time": "2022-11-25T05:49:47.214424",
     "status": "completed"
    },
    "tags": []
   },
   "outputs": [
    {
     "name": "stdout",
     "output_type": "stream",
     "text": [
      "delta: 0.2\n"
     ]
    }
   ],
   "source": [
    "print(f\"delta: {delta}\")"
   ]
  }
 ],
 "metadata": {
  "kernelspec": {
   "display_name": "Python 3.8.9 ('.venv': poetry)",
   "language": "python",
   "name": "python3"
  },
  "language_info": {
   "codemirror_mode": {
    "name": "ipython",
    "version": 3
   },
   "file_extension": ".py",
   "mimetype": "text/x-python",
   "name": "python",
   "nbconvert_exporter": "python",
   "pygments_lexer": "ipython3",
   "version": "3.8.9"
  },
  "papermill": {
   "default_parameters": {},
   "duration": 11.0798,
   "end_time": "2022-11-25T05:49:47.337878",
   "environment_variables": {},
   "exception": null,
   "input_path": "/home/k0tk267/dev/hobby/papermill-poc/notebooks/input/input.ipynb",
   "output_path": "/home/k0tk267/dev/hobby/papermill-poc/notebooks/output/output_2022-11-25-14h-49m.ipynb",
   "parameters": {
    "alpha": 5,
    "ratio": 7
   },
   "start_time": "2022-11-25T05:49:36.258078",
   "version": "2.4.0"
  },
  "vscode": {
   "interpreter": {
    "hash": "f83cd1b9290c4c552d1e201d0ae2c30dec11578088b635eba8489a9a208ef3ba"
   }
  }
 },
 "nbformat": 4,
 "nbformat_minor": 5
}