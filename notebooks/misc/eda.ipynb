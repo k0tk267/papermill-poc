{
 "cells": [
  {
   "cell_type": "code",
   "execution_count": null,
   "metadata": {},
   "outputs": [],
   "source": []
  }
 ],
 "metadata": {
  "kernelspec": {
   "display_name": "Python 3.9.10 64-bit ('3.9.10')",
   "language": "python",
   "name": "python3"
  },
  "language_info": {
   "name": "python",
   "version": "3.9.10"
  },
  "orig_nbformat": 4,
  "vscode": {
   "interpreter": {
    "hash": "e4a1cee8dac5b813edc017621c14c2add5c5223cd8d1e3279c7ec28bb6b25897"
   }
  }
 },
 "nbformat": 4,
 "nbformat_minor": 2
}
